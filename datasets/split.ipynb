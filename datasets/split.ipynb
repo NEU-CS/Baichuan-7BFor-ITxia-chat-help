{
 "cells": [
  {
   "cell_type": "code",
   "execution_count": null,
   "metadata": {},
   "outputs": [],
   "source": [
    "import pandas as pd\n",
    "import re\n",
    "\n",
    "\n",
    "df = pd.read_csv(\"data.csv\",encoding=\"utf-8\")"
   ]
  },
  {
   "cell_type": "code",
   "execution_count": null,
   "metadata": {},
   "outputs": [],
   "source": [
    "pd.set_option('display.max_rows',None)"
   ]
  },
  {
   "cell_type": "code",
   "execution_count": null,
   "metadata": {},
   "outputs": [],
   "source": [
    "df = df[df.notna().all(axis=1)]"
   ]
  },
  {
   "cell_type": "code",
   "execution_count": null,
   "metadata": {},
   "outputs": [],
   "source": [
    "res = []\n",
    "import json"
   ]
  },
  {
   "cell_type": "code",
   "execution_count": null,
   "metadata": {},
   "outputs": [],
   "source": [
    "df['Even_Further_Improved_Cleaned_Answer']"
   ]
  },
  {
   "cell_type": "code",
   "execution_count": null,
   "metadata": {},
   "outputs": [],
   "source": [
    "df['Question']"
   ]
  },
  {
   "cell_type": "code",
   "execution_count": null,
   "metadata": {},
   "outputs": [],
   "source": [
    "df['Even_Further_Improved_Cleaned_Answer']"
   ]
  },
  {
   "cell_type": "code",
   "execution_count": null,
   "metadata": {},
   "outputs": [],
   "source": [
    "with open(\"data.jsonl\",\"w\",encoding=\"utf-8\") as f:\n",
    "    for item in df['Even_Further_Improved_Cleaned_Answer']:\n",
    "        f.write(re.sub(\"[0-9:-;]+\",\"\",item) + \"\\n\")"
   ]
  },
  {
   "cell_type": "code",
   "execution_count": null,
   "metadata": {},
   "outputs": [],
   "source": [
    "strs = []\n",
    "with open(\"data.jsonl\",\"r\",encoding=\"utf-8\") as f:\n",
    "    for line in f:\n",
    "        strs.append(line)"
   ]
  },
  {
   "cell_type": "code",
   "execution_count": null,
   "metadata": {},
   "outputs": [],
   "source": [
    "len(strs)"
   ]
  },
  {
   "cell_type": "code",
   "execution_count": null,
   "metadata": {},
   "outputs": [],
   "source": [
    "strs[0]"
   ]
  },
  {
   "cell_type": "code",
   "execution_count": null,
   "metadata": {},
   "outputs": [],
   "source": [
    "re.sub(\"\\[图片\\]\\[表情\\]\",\"\",strs[0])"
   ]
  },
  {
   "cell_type": "code",
   "execution_count": null,
   "metadata": {},
   "outputs": [],
   "source": [
    "re.sub(\"【管理员】\",\"\",re.sub(\"\\[惊吓\\]\",\"\",re.sub(\"\\[表情\\]\",\"\",re.sub(\"\\[图片\\]\",\"\",strs[0]))))"
   ]
  },
  {
   "cell_type": "code",
   "execution_count": null,
   "metadata": {},
   "outputs": [],
   "source": [
    "re.sub(\"\\[表情\\]\",\"\",re.sub(\"\\[图片\\]\",\"\",strs[0]))"
   ]
  },
  {
   "cell_type": "code",
   "execution_count": null,
   "metadata": {},
   "outputs": [],
   "source": [
    "strs[0].split(\"[图片]\")"
   ]
  },
  {
   "cell_type": "code",
   "execution_count": null,
   "metadata": {},
   "outputs": [],
   "source": [
    "with open(\"data2.jsonl\",\"w\",encoding=\"utf-8\") as f:\n",
    "    for st in strs:\n",
    "        f.write((re.sub(\"\\[it侠\\].*[()]*\",\"\",re.sub(\"【管理员】.*[()]*\",\"\",re.sub(\"【小白】.*[()]*\",\"\",re.sub(\"\\[IT侠\\].*[()]*\",\"\",re.sub(\"\\[惊吓\\]\",\"\",re.sub(\"\\[表情\\]\",\"\",re.sub(\"\\[图片\\]\",\"\",st)))))))))"
   ]
  },
  {
   "cell_type": "code",
   "execution_count": null,
   "metadata": {},
   "outputs": [],
   "source": [
    "with open(\"data2.jsonl\",\"r\")  as f:\n",
    "    with open(\"final_data.jsonl\",\"w\",encoding=\"gbk\") as f2:\n",
    "        for i,v in enumerate(f):\n",
    "            if len(v) < 5:\n",
    "                continue\n",
    "            f2.write(json.dumps({'question':df['Question'].iloc[i],'answer':v}) + \"\\n\")"
   ]
  },
  {
   "cell_type": "code",
   "execution_count": null,
   "metadata": {},
   "outputs": [],
   "source": []
  }
 ],
 "metadata": {
  "kernelspec": {
   "display_name": "adv",
   "language": "python",
   "name": "python3"
  },
  "language_info": {
   "codemirror_mode": {
    "name": "ipython",
    "version": 3
   },
   "file_extension": ".py",
   "mimetype": "text/x-python",
   "name": "python",
   "nbconvert_exporter": "python",
   "pygments_lexer": "ipython3",
   "version": "3.8.18"
  }
 },
 "nbformat": 4,
 "nbformat_minor": 2
}
